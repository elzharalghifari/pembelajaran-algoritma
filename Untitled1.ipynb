{
  "nbformat": 4,
  "nbformat_minor": 0,
  "metadata": {
    "colab": {
      "provenance": [],
      "authorship_tag": "ABX9TyPoxlHWkKmIBU00vKFJrKyq",
      "include_colab_link": true
    },
    "kernelspec": {
      "name": "python3",
      "display_name": "Python 3"
    },
    "language_info": {
      "name": "python"
    }
  },
  "cells": [
    {
      "cell_type": "markdown",
      "metadata": {
        "id": "view-in-github",
        "colab_type": "text"
      },
      "source": [
        "<a href=\"https://colab.research.google.com/github/elzharalghifari/pembelajaran-algoritma/blob/main/Untitled1.ipynb\" target=\"_parent\"><img src=\"https://colab.research.google.com/assets/colab-badge.svg\" alt=\"Open In Colab\"/></a>"
      ]
    },
    {
      "cell_type": "code",
      "execution_count": null,
      "metadata": {
        "id": "ag9VMi8PL1VK"
      },
      "outputs": [],
      "source": []
    },
    {
      "cell_type": "markdown",
      "source": [
        "algoritma pemograman\n",
        "apaitu algoritma\n",
        "1.algoritma adalah urutan langkah langkah logis yang di gunakan untuk menyelesaikan masalah\n",
        "2.setiap langkah harus jelas dan dapat di eksekusi\n",
        "3.algoritma adalah dasar dari pemrograman komputer membantu memecahkan masalah secara efisien\n",
        "\n",
        "definisi pemrograman\n",
        "adalah kumpulan instruksi tersendiri yang biasanya di sebut source code yang di buat oleh progamer(pembuat progam)\n",
        "\n",
        "pradigma pemrograman\n",
        "-pemrograman prosedural\n",
        "-pemrograman fungsional\n",
        "-pemrograman terstruktur\n",
        "-pemrograman modular\n",
        "-pemrograman berorientasi obyek\n",
        "-pemrograman berorientasi fungsi\n",
        "-pemrograman deklaratif\n",
        "\n",
        "siklus hidup perangkat lunak(software)\n",
        "requirement-desain-implementasi-testin\n",
        "\n",
        "sejarah algoritma\n",
        "asalmoto algoritma berasal dari nama abu ja'far mohammed ibn musa al-khowarizmi ilmuan persia yang menulis kitab al jabr sekitar tahun 825 masehi"
      ],
      "metadata": {
        "id": "wvfSPhZ5L6kU"
      }
    }
  ]
}