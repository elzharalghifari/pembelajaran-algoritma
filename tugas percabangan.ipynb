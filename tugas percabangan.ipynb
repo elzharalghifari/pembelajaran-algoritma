{
  "nbformat": 4,
  "nbformat_minor": 0,
  "metadata": {
    "colab": {
      "provenance": [],
      "authorship_tag": "ABX9TyPiVy/0Fwf1klnVEwY8AwPD",
      "include_colab_link": true
    },
    "kernelspec": {
      "name": "python3",
      "display_name": "Python 3"
    },
    "language_info": {
      "name": "python"
    }
  },
  "cells": [
    {
      "cell_type": "markdown",
      "metadata": {
        "id": "view-in-github",
        "colab_type": "text"
      },
      "source": [
        "<a href=\"https://colab.research.google.com/github/elzharalghifari/pembelajaran-algoritma/blob/main/tugas%20percabangan.ipynb\" target=\"_parent\"><img src=\"https://colab.research.google.com/assets/colab-badge.svg\" alt=\"Open In Colab\"/></a>"
      ]
    },
    {
      "cell_type": "markdown",
      "source": [
        "penentuan diskon berdasarkan jumlah pembelian"
      ],
      "metadata": {
        "id": "glTs8QAQgxlF"
      }
    },
    {
      "cell_type": "code",
      "source": [
        "penentuan diskon berdasarkan jumlah pembelian\n",
        "jumlah_pembelian = float(input(\"masukan jumlah pembelian: \"))\n",
        "if jumlah_pembelian < 100.000:\n",
        "  print(\"tidak ada diskon\")\n",
        " elif jumlah_pembelian < 100.000 and jumlah_pembelian 500.000:\n",
        "    print(\"diskon 10%\")\n",
        "  elif jumlah_pembelian = 500.000:\n",
        "    print(\"diskon 20%\")\n",
        "  else :\n",
        "    print(\"harga setelah diskon:\")\n"
      ],
      "metadata": {
        "colab": {
          "base_uri": "https://localhost:8080/",
          "height": 106
        },
        "id": "cD4G7Nq4g9Pf",
        "outputId": "fbe2c250-46b1-4398-d6fc-4675569bd35d"
      },
      "execution_count": 16,
      "outputs": [
        {
          "output_type": "error",
          "ename": "IndentationError",
          "evalue": "unindent does not match any outer indentation level (<tokenize>, line 5)",
          "traceback": [
            "\u001b[0;36m  File \u001b[0;32m\"<tokenize>\"\u001b[0;36m, line \u001b[0;32m5\u001b[0m\n\u001b[0;31m    elif jumlah_pembelian < 100.000 and jumlah_pembelian 500.000:\u001b[0m\n\u001b[0m    ^\u001b[0m\n\u001b[0;31mIndentationError\u001b[0m\u001b[0;31m:\u001b[0m unindent does not match any outer indentation level\n"
          ]
        }
      ]
    },
    {
      "cell_type": "markdown",
      "source": [],
      "metadata": {
        "id": "AF4vCFgSpjgx"
      }
    },
    {
      "cell_type": "markdown",
      "source": [
        "klasifikasi umur"
      ],
      "metadata": {
        "id": "z9xb9lvFqYOB"
      }
    },
    {
      "cell_type": "code",
      "source": [
        "umur = int(input(\"masukan umur: \"))\n",
        "if  umur < 12 :\n",
        "  print(\"anak anak\")\n",
        "elif  umur <= 17 :\n",
        "  print(\"remaja\")\n",
        "elif  umur <= 64 :\n",
        "  print(\"dewasa\")\n",
        "else :\n",
        "  print(\"lansia\")\n"
      ],
      "metadata": {
        "colab": {
          "base_uri": "https://localhost:8080/"
        },
        "id": "fRRNnnP7qcuR",
        "outputId": "b0622e93-ee44-4147-aebe-eeae830ffe98"
      },
      "execution_count": 35,
      "outputs": [
        {
          "output_type": "stream",
          "name": "stdout",
          "text": [
            "masukan umur: 90\n",
            "lansia\n"
          ]
        }
      ]
    },
    {
      "cell_type": "markdown",
      "source": [
        "penilaian nilai siswa"
      ],
      "metadata": {
        "id": "lCMSAKIatQYD"
      }
    },
    {
      "cell_type": "code",
      "source": [
        "nilai = int(input(\"masukan nilai siswa: \"))\n",
        "if nilai >= 90 :\n",
        "  print(\"sangat baik\")\n",
        "elif nilai >= 70 :\n",
        "  print(\"baik\")\n",
        "elif nilai >= 50 :\n",
        "  print(\"cukup\")\n",
        "else :\n",
        "  print(\"buruk\")\n"
      ],
      "metadata": {
        "colab": {
          "base_uri": "https://localhost:8080/"
        },
        "id": "nXk3dm-UtVOi",
        "outputId": "41947c7c-524b-4b93-a0ac-5ca57780f368"
      },
      "execution_count": 36,
      "outputs": [
        {
          "output_type": "stream",
          "name": "stdout",
          "text": [
            "masukan nilai siswa: 37\n",
            "buruk\n"
          ]
        }
      ]
    },
    {
      "cell_type": "markdown",
      "source": [
        "pengecekan tahun kabisat"
      ],
      "metadata": {
        "id": "XuRmycSBuq53"
      }
    },
    {
      "cell_type": "code",
      "source": [
        "a = int(input(\"masukan tahun: \"))\n",
        "if a % 4 == 0 :\n",
        " if a % 100 == 0 :\n",
        "  if a % 400 == 0 :\n",
        "    ]print(\"tahun kabisat\")\n",
        "else :\n",
        "  print(\"bukan tahun kabisat\")"
      ],
      "metadata": {
        "colab": {
          "base_uri": "https://localhost:8080/"
        },
        "id": "MJpFQ-f_uwxP",
        "outputId": "3d39eb30-32e2-4151-f85d-7f24eab8c680"
      },
      "execution_count": 2,
      "outputs": [
        {
          "output_type": "stream",
          "name": "stdout",
          "text": [
            "masukan tahun: 1946\n",
            "bukan tahun kabisat\n"
          ]
        }
      ]
    },
    {
      "cell_type": "markdown",
      "source": [
        "kalkulator sederhana"
      ],
      "metadata": {
        "id": "aIvRLlWnv1Ma"
      }
    },
    {
      "cell_type": "code",
      "source": [
        "a = int(input(\"masukan angka pertama :\"))\n",
        "b = int(input(\"masukan angka kedua :\"))\n",
        "c = int(input(\"masukan op[erasi :\"))\n",
        "if c == 1 :\n",
        "  print(a + b)\n",
        "elif c == \"-\" :\n",
        "  print(a-b)\n",
        "elif c == \"*\" :\n",
        "  print(a*b)\n",
        "elif c == \"/\" :\n",
        "  print(a/b)"
      ],
      "metadata": {
        "colab": {
          "base_uri": "https://localhost:8080/",
          "height": 263
        },
        "id": "Q0hA3wPiv54h",
        "outputId": "02d7b67c-b7a0-4810-9cbe-094d1adbfa67"
      },
      "execution_count": 17,
      "outputs": [
        {
          "name": "stdout",
          "output_type": "stream",
          "text": [
            "masukan angka pertama :90\n",
            "masukan angka kedua :70\n",
            "masukan op[erasi :+\n"
          ]
        },
        {
          "output_type": "error",
          "ename": "ValueError",
          "evalue": "invalid literal for int() with base 10: '+'",
          "traceback": [
            "\u001b[0;31m---------------------------------------------------------------------------\u001b[0m",
            "\u001b[0;31mValueError\u001b[0m                                Traceback (most recent call last)",
            "\u001b[0;32m<ipython-input-17-e2d5ea6de229>\u001b[0m in \u001b[0;36m<cell line: 3>\u001b[0;34m()\u001b[0m\n\u001b[1;32m      1\u001b[0m \u001b[0ma\u001b[0m \u001b[0;34m=\u001b[0m \u001b[0mint\u001b[0m\u001b[0;34m(\u001b[0m\u001b[0minput\u001b[0m\u001b[0;34m(\u001b[0m\u001b[0;34m\"masukan angka pertama :\"\u001b[0m\u001b[0;34m)\u001b[0m\u001b[0;34m)\u001b[0m\u001b[0;34m\u001b[0m\u001b[0;34m\u001b[0m\u001b[0m\n\u001b[1;32m      2\u001b[0m \u001b[0mb\u001b[0m \u001b[0;34m=\u001b[0m \u001b[0mint\u001b[0m\u001b[0;34m(\u001b[0m\u001b[0minput\u001b[0m\u001b[0;34m(\u001b[0m\u001b[0;34m\"masukan angka kedua :\"\u001b[0m\u001b[0;34m)\u001b[0m\u001b[0;34m)\u001b[0m\u001b[0;34m\u001b[0m\u001b[0;34m\u001b[0m\u001b[0m\n\u001b[0;32m----> 3\u001b[0;31m \u001b[0mc\u001b[0m \u001b[0;34m=\u001b[0m \u001b[0mint\u001b[0m\u001b[0;34m(\u001b[0m\u001b[0minput\u001b[0m\u001b[0;34m(\u001b[0m\u001b[0;34m\"masukan op[erasi :\"\u001b[0m\u001b[0;34m)\u001b[0m\u001b[0;34m)\u001b[0m\u001b[0;34m\u001b[0m\u001b[0;34m\u001b[0m\u001b[0m\n\u001b[0m\u001b[1;32m      4\u001b[0m \u001b[0;32mif\u001b[0m \u001b[0mc\u001b[0m \u001b[0;34m==\u001b[0m \u001b[0;36m1\u001b[0m \u001b[0;34m:\u001b[0m\u001b[0;34m\u001b[0m\u001b[0;34m\u001b[0m\u001b[0m\n\u001b[1;32m      5\u001b[0m   \u001b[0mprint\u001b[0m\u001b[0;34m(\u001b[0m\u001b[0ma\u001b[0m \u001b[0;34m+\u001b[0m \u001b[0mb\u001b[0m\u001b[0;34m)\u001b[0m\u001b[0;34m\u001b[0m\u001b[0;34m\u001b[0m\u001b[0m\n",
            "\u001b[0;31mValueError\u001b[0m: invalid literal for int() with base 10: '+'"
          ]
        }
      ]
    }
  ]
}